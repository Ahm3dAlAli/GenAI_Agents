{
 "cells": [
  {
   "cell_type": "markdown",
   "metadata": {},
   "source": [
    "# Scientific paper agent using LangGraph"
   ]
  },
  {
   "cell_type": "markdown",
   "metadata": {},
   "source": [
    "## Overview\n",
    "\n",
    "add overview"
   ]
  },
  {
   "cell_type": "markdown",
   "metadata": {},
   "source": [
    "## Motivation\n",
    "\n",
    "add motivation\n"
   ]
  },
  {
   "cell_type": "markdown",
   "metadata": {},
   "source": [
    "## Key components\n",
    "\n",
    "add key components"
   ]
  },
  {
   "cell_type": "markdown",
   "metadata": {},
   "source": [
    "## Method details\n",
    "\n",
    "add method details"
   ]
  },
  {
   "cell_type": "markdown",
   "metadata": {},
   "source": [
    "## Conclusion\n",
    "\n",
    "add conclusion\n"
   ]
  },
  {
   "cell_type": "markdown",
   "metadata": {},
   "source": [
    "## Import libraries"
   ]
  },
  {
   "cell_type": "code",
   "execution_count": 1,
   "metadata": {},
   "outputs": [
    {
     "name": "stdout",
     "output_type": "stream",
     "text": [
      "Note: you may need to restart the kernel to use updated packages.\n"
     ]
    }
   ],
   "source": [
    "%pip install --upgrade --quiet arxiv google-search-results"
   ]
  },
  {
   "cell_type": "code",
   "execution_count": 2,
   "metadata": {},
   "outputs": [
    {
     "data": {
      "text/plain": [
       "True"
      ]
     },
     "execution_count": 2,
     "metadata": {},
     "output_type": "execute_result"
    }
   ],
   "source": [
    "import os\n",
    "from dotenv import load_dotenv\n",
    "load_dotenv()"
   ]
  },
  {
   "cell_type": "markdown",
   "metadata": {},
   "source": [
    "## Build agent tools"
   ]
  },
  {
   "cell_type": "code",
   "execution_count": 3,
   "metadata": {},
   "outputs": [],
   "source": [
    "from langchain_core.tools import tool\n",
    "from langchain_community.utilities.arxiv import ArxivAPIWrapper\n",
    "from pydantic import BaseModel, Field, model_validator\n",
    "from serpapi import GoogleScholarSearch\n",
    "from typing import Any\n",
    "\n",
    "# Write Google Scholar API Wrapper\n",
    "# NOTE: Langchain has a built in tool but it doesn't work\n",
    "class GoogleScholarAPIWrapper(BaseModel):\n",
    "    top_k_results: int = Field(description = \"top k results obtained by running a query on GoogleScholarSearch\")\n",
    "    serp_api_key: str | None = None\n",
    "    search_engine: Any | None = None\n",
    "\n",
    "    @model_validator(mode = \"before\")\n",
    "    def validate_env(cls, values: dict) -> dict:\n",
    "        serp_api_key = values.get('serp_api_key')\n",
    "        if serp_api_key is None:\n",
    "            serp_api_key = os.environ[\"SERP_API_KEY\"]\n",
    "        GoogleScholarSearch.SERP_API_KEY = serp_api_key \n",
    "        values['search_engine'] = GoogleScholarSearch\n",
    "        return values\n",
    "        \n",
    "    def run(self, query: str) -> str:\n",
    "        page = 0\n",
    "        all_results = []\n",
    "        while page < max((self.top_k_results - 20), 1):\n",
    "            results = (self.search_engine({\"q\": query, \"start\": page, \"hl\": \"en\",\n",
    "                        \"num\": min(self.top_k_results, 20), \"lr\": \"lang_en\"}).get_dict().get(\"organic_results\", []))\n",
    "            all_results.extend(results)\n",
    "            if not results:  \n",
    "                break\n",
    "            page += 20\n",
    "        if (self.top_k_results % 20 != 0 and page > 20 and all_results):  # From the last page we would only need top_k_results%20 results\n",
    "            results = (self.search_engine({\"q\": query,\"start\": page,\"num\": self.top_k_results % 20, \"hl\": \"en\", \"lr\": \"lang_en\"})\n",
    "                .get_dict()\n",
    "                .get(\"organic_results\", []))\n",
    "            all_results.extend(results)\n",
    "        if not all_results:\n",
    "            return \"No good Google Scholar Result was found\"\n",
    "        docs = [\n",
    "            f\"Title: {result.get('title','')}\\n\"\n",
    "            f\"Authors: {','.join([author.get('name') for author in result.get('publication_info',{}).get('authors',[])])}\\n\"  # noqa: E501\n",
    "            f\"Summary: {result.get('publication_info',{}).get('summary','')}\\n\"\n",
    "            f\"Total-Citations: {result.get('inline_links',{}).get('cited_by',{}).get('total','')}\"\n",
    "            f\"Link: {result.get('resources',[{}])[0].get('link','')}\"\n",
    "            for result in all_results\n",
    "        ]\n",
    "        return \"\\n\\n\".join(docs)\n",
    "\n",
    "class GoogleScholarSearchInput(BaseModel):\n",
    "    query: str = Field(description=\"The query to search for on arxiv. If the query is in the form of arxiv identifier, it will return the paper corresponding to the arxiv identifier. Otherwise, it will search for the paper using the query.\")\n",
    "    max_papers: int = Field(description=\"The maximum number of papers to return. It's default to 1, but you can increase it up to 10 in case you need to perform a more comprehensive search.\", default=1, ge=1, le=10)\n",
    "\n",
    "\n",
    "class ArxivSearchInput(BaseModel):\n",
    "    id: str = Field(description=\"The arxiv id of the paper to search for.\")\n"
   ]
  },
  {
   "cell_type": "code",
   "execution_count": 4,
   "metadata": {},
   "outputs": [],
   "source": [
    "@tool(\"google-scholar-search\", args_schema=GoogleScholarSearchInput)\n",
    "def google_scholar_search(query: str, max_papers: int) -> str:\n",
    "    \"\"\"Academic search on google scholar.\n",
    "\n",
    "    Example:\n",
    "    {\"query\": \"Attention is all you need\", \"max_papers\": 1}\n",
    "\n",
    "    Returns:\n",
    "        A list of the relevant papers found with the corresponding summaries.\n",
    "    \"\"\"\n",
    "    try:\n",
    "        return GoogleScholarAPIWrapper(top_k_results=max_papers).run(query)\n",
    "    except Exception as e:\n",
    "        return f\"Error performing google scholar search: {e}\"\n",
    "\n",
    "@tool(\"arxiv-search\", args_schema=ArxivSearchInput)\n",
    "def arxiv_search(id: str) -> str:\n",
    "    \"\"\"Search for one specific scientific paper on arxiv.\n",
    "\n",
    "    Example:\n",
    "    {\"id\": \"2411.05749\"}\n",
    "\n",
    "    Returns:\n",
    "        A list of the summaries of the papers.\n",
    "    \"\"\"\n",
    "    try:\n",
    "        arxiv_api_wrapper = ArxivAPIWrapper(\n",
    "            top_k_results=1,\n",
    "            load_max_docs=100,\n",
    "            ARXIV_MAX_QUERY_LENGTH=1000,  # NOTE: can be chosen better based on the model. we can also summarize it in the tool to make it more scalable\n",
    "            doc_content_chars_max=10000,  # NOTE: can be chosen better based on the model. if the overall content length is too long, we should handle it somehow  # ? summarization? truncate?\n",
    "            load_all_available_meta=True,\n",
    "        )\n",
    "        if not arxiv_api_wrapper.is_arxiv_identifier(id):\n",
    "            raise ValueError(\"The arxiv id is not valid\")\n",
    "        \n",
    "        return arxiv_api_wrapper.run(id)\n",
    "    except Exception as e:\n",
    "        return f\"Error performing arxiv search: {e}\"\n"
   ]
  },
  {
   "cell_type": "markdown",
   "metadata": {},
   "source": [
    "## Create agent"
   ]
  },
  {
   "cell_type": "code",
   "execution_count": 5,
   "metadata": {},
   "outputs": [
    {
     "data": {
      "image/jpeg": "[encoded data removed]",
      "text/plain": [
       "<IPython.core.display.Image object>"
      ]
     },
     "metadata": {},
     "output_type": "display_data"
    }
   ],
   "source": [
    "from langchain_openai import ChatOpenAI\n",
    "from langchain_core.messages import SystemMessage\n",
    "from langgraph.prebuilt import create_react_agent\n",
    "from IPython.display import Image, display\n",
    "\n",
    "# TODO: Write agent prompt\n",
    "llm = ChatOpenAI(model=\"gpt-4o-mini\", temperature=0.0)\n",
    "tools = [google_scholar_search, arxiv_search]\n",
    "prompt = SystemMessage(content=\"You are a helpful assistant that can search for scientific papers on arxiv and google scholar.\")\n",
    "\n",
    "langgraph_agent_executor = create_react_agent(\n",
    "    llm, \n",
    "    tools=tools, \n",
    "    state_modifier=prompt\n",
    ")\n",
    "\n",
    "# Display agent graph\n",
    "display(Image(langgraph_agent_executor.get_graph().draw_mermaid_png()))"
   ]
  },
  {
   "cell_type": "markdown",
   "metadata": {},
   "source": [
    "## Run agent"
   ]
  },
  {
   "cell_type": "code",
   "execution_count": 6,
   "metadata": {},
   "outputs": [
    {
     "name": "stdout",
     "output_type": "stream",
     "text": [
      "**Input:** what is the arxiv paper with id 1409.2329 about? provide a detailed summary of the content\n",
      "**Output:** The paper titled \"Recurrent Neural Network Regularization\" (arXiv ID: 1409.2329) was published on February 19, 2015, by authors Wojciech Zaremba, Ilya Sutskever, and Oriol Vinyals. \n",
      "\n",
      "### Summary of the Content:\n",
      "\n",
      "The paper addresses the challenge of regularizing Recurrent Neural Networks (RNNs), particularly those utilizing Long Short-Term Memory (LSTM) units. Regularization is crucial in machine learning to prevent overfitting, which occurs when a model learns the training data too well, including its noise and outliers, leading to poor generalization on unseen data.\n",
      "\n",
      "#### Key Points:\n",
      "\n",
      "1. **Dropout in Neural Networks**: \n",
      "   - Dropout is a widely used regularization technique that involves randomly setting a fraction of the input units to zero during training. This helps to prevent co-adaptation of hidden units, thereby improving the model's ability to generalize.\n",
      "\n",
      "2. **Challenges with RNNs and LSTMs**:\n",
      "   - The authors note that traditional dropout methods do not perform well with RNNs and LSTMs. This is primarily due to the temporal dependencies in RNNs, where the output at a given time step depends on previous time steps.\n",
      "\n",
      "3. **Proposed Solution**:\n",
      "   - The paper presents a method for applying dropout specifically tailored for LSTMs. The authors propose a way to implement dropout in a manner that respects the sequential nature of the data processed by RNNs.\n",
      "\n",
      "4. **Empirical Results**:\n",
      "   - The authors conduct experiments across various tasks to demonstrate the effectiveness of their proposed dropout method. The tasks include:\n",
      "     - **Language Modeling**: Predicting the next word in a sequence.\n",
      "     - **Speech Recognition**: Converting spoken language into text.\n",
      "     - **Image Caption Generation**: Generating descriptive captions for images.\n",
      "     - **Machine Translation**: Translating text from one language to another.\n",
      "   - The results show that their dropout technique significantly reduces overfitting and improves performance on these tasks compared to standard methods.\n",
      "\n",
      "5. **Conclusion**:\n",
      "   - The paper concludes that the proposed regularization technique is effective for LSTMs and can be beneficial for various applications involving sequential data. The findings contribute to the understanding of how to better regularize RNNs, paving the way for improved performance in tasks that rely on temporal data.\n",
      "\n",
      "This work is significant as it enhances the robustness of RNNs, making them more applicable to real-world problems where overfitting is a common concern.\n",
      "--------------------------------------------\n",
      "**Input:** list all the authors of the paper 'Attention is all you need'?\n",
      "**Output:** The authors of the paper \"Attention Is All You Need\" are:\n",
      "\n",
      "1. Ashish Vaswani\n",
      "2. Noam Shazeer\n",
      "3. Niki Parmar\n",
      "4. Jakob Uszkoreit\n",
      "5. Llion Jones\n",
      "6. Aidan N. Gomez\n",
      "7. Lukasz Kaiser\n",
      "8. Illia Polosukhin\n",
      "--------------------------------------------\n",
      "**Input:** can you find me 8 papers on quantum machine learning?\n",
      "**Output:** Here are 8 papers on quantum machine learning:\n",
      "\n",
      "1. **Quantum machine learning**\n",
      "   - **Authors**: J Biamonte, P Wittek, N Pancotti, P Rebentrost\n",
      "   - **Summary**: This paper discusses the intersection of quantum computing and machine learning, exploring how quantum algorithms can enhance machine learning tasks.\n",
      "   - **Citations**: 4212\n",
      "   - [Read more](https://arxiv.org/pdf/1611.09347)\n",
      "\n",
      "2. **Challenges and opportunities in quantum machine learning**\n",
      "   - **Authors**: M Cerezo, G Verdon, HY Huang, L Cincio\n",
      "   - **Summary**: The authors outline the current challenges in quantum machine learning and the potential opportunities for future research.\n",
      "   - **Citations**: 364\n",
      "   - [Read more](https://arxiv.org/pdf/2303.09491)\n",
      "\n",
      "3. **An introduction to quantum machine learning**\n",
      "   - **Authors**: M Schuld, I Sinayskiy, F Petruccione\n",
      "   - **Summary**: This paper provides a foundational overview of quantum machine learning, discussing key concepts and methodologies.\n",
      "   - **Citations**: 1368\n",
      "   - [Read more](https://arxiv.org/pdf/1409.3097)\n",
      "\n",
      "4. **Power of data in quantum machine learning**\n",
      "   - **Authors**: HY Huang, M Mohseni\n",
      "   - **Summary**: The paper examines the role of data in quantum machine learning and how it influences the performance of quantum algorithms.\n",
      "   - **Citations**: 729\n",
      "   - [Read more](https://www.nature.com/articles/s41467-021-22539-9.pdf)\n",
      "\n",
      "5. **Quantum machine learning: a classical perspective**\n",
      "   - **Authors**: C Ciliberto, M Herbster, AD Ialongo\n",
      "   - **Summary**: This work presents a classical viewpoint on quantum machine learning, comparing classical and quantum approaches.\n",
      "   - **Citations**: 505\n",
      "   - [Read more](https://royalsocietypublishing.org/doi/pdf/10.1098/rspa.2017.0551?download=true)\n",
      "\n",
      "6. **Recent advances in quantum machine learning**\n",
      "   - **Authors**: Q Ni\n",
      "   - **Summary**: The paper reviews recent developments in quantum machine learning, highlighting significant advancements and future directions.\n",
      "   - **Citations**: 149\n",
      "   - [Read more](#)\n",
      "\n",
      "7. **Quantum machine learning in feature Hilbert spaces**\n",
      "   - **Authors**: M Schuld, N Killoran\n",
      "   - **Summary**: This paper discusses the application of quantum machine learning techniques in feature Hilbert spaces, providing theoretical insights.\n",
      "   - **Citations**: 1340\n",
      "   - [Read more](https://arxiv.org/pdf/1803.07128)\n",
      "\n",
      "8. **Systematic literature review: Quantum machine learning and its applications**\n",
      "   - **Authors**: D Peral-García, J Cruz-Benito\n",
      "   - **Summary**: This systematic review surveys the literature on quantum machine learning, summarizing its applications and research trends.\n",
      "   - **Citations**: 108\n",
      "   - [Read more](https://www.sciencedirect.com/science/article/pii/S1574013724000030)\n",
      "\n",
      "Feel free to explore these papers for more in-depth information on quantum machine learning!\n",
      "--------------------------------------------\n"
     ]
    }
   ],
   "source": [
    "test_inputs = [\n",
    "    \"what is the arxiv paper with id 1409.2329 about? provide a detailed summary of the content\",\n",
    "    \"list all the authors of the paper 'Attention is all you need'?\",\n",
    "    \"can you find me 8 papers on quantum machine learning?\",\n",
    "]\n",
    "\n",
    "for test_input in test_inputs:\n",
    "    messages = langgraph_agent_executor.invoke({\"messages\": [(\"user\", test_input)]})\n",
    "    out = messages['messages'][-1].content\n",
    "    print(f\"**Input:** {test_input}\")\n",
    "    print(f\"**Output:** {out}\")\n",
    "    print(\"--------------------------------------------\")\n"
   ]
  }
 ],
 "metadata": {
  "kernelspec": {
   "display_name": "Python 3",
   "language": "python",
   "name": "python3"
  },
  "language_info": {
   "codemirror_mode": {
    "name": "ipython",
    "version": 3
   },
   "file_extension": ".py",
   "mimetype": "text/x-python",
   "name": "python",
   "nbconvert_exporter": "python",
   "pygments_lexer": "ipython3",
   "version": "3.11.10"
  }
 },
 "nbformat": 4,
 "nbformat_minor": 2
}
